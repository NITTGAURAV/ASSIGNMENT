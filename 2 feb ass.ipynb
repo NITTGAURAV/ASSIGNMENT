{
 "cells": [
  {
   "cell_type": "markdown",
   "id": "2d08bcb5-9ef9-4094-8e02-d5f8b462dd6f",
   "metadata": {},
   "source": [
    "QUESTION 1"
   ]
  },
  {
   "cell_type": "markdown",
   "id": "838e7d20-9319-493a-a07e-c3e5a65dd45a",
   "metadata": {},
   "source": [
    "The while loop is a kind of a loop that keeps running while a condition is True.\n",
    "\n",
    "The for loops keeps running for a specific number of times."
   ]
  },
  {
   "cell_type": "markdown",
   "id": "8f256e2b-28ff-49ee-8a5a-56985c487d9c",
   "metadata": {},
   "source": [
    "QUESTION 2"
   ]
  },
  {
   "cell_type": "code",
   "execution_count": 3,
   "id": "689ac189-d7c8-434a-b065-832c0a9dfa65",
   "metadata": {},
   "outputs": [
    {
     "data": {
      "text/plain": [
       "55"
      ]
     },
     "execution_count": 3,
     "metadata": {},
     "output_type": "execute_result"
    }
   ],
   "source": [
    "a=0\n",
    "for i in range(1,11):\n",
    "    a=a+i\n",
    "a\n",
    "    "
   ]
  },
  {
   "cell_type": "code",
   "execution_count": 3,
   "id": "e8d55019-432a-4b86-826f-129dd3f2621f",
   "metadata": {},
   "outputs": [
    {
     "data": {
      "text/plain": [
       "3628800"
      ]
     },
     "execution_count": 3,
     "metadata": {},
     "output_type": "execute_result"
    }
   ],
   "source": [
    "a=1\n",
    "for i in range(1,11):\n",
    "    a=a*i\n",
    "    \n",
    "a"
   ]
  },
  {
   "cell_type": "code",
   "execution_count": 4,
   "id": "c40d026b-6109-4b86-a80d-ffa2292930f8",
   "metadata": {},
   "outputs": [
    {
     "data": {
      "text/plain": [
       "55"
      ]
     },
     "execution_count": 4,
     "metadata": {},
     "output_type": "execute_result"
    }
   ],
   "source": [
    "a=1\n",
    "b=0\n",
    "while a<11:\n",
    "    b=b+a\n",
    "    a=a+1\n",
    "b"
   ]
  },
  {
   "cell_type": "code",
   "execution_count": 5,
   "id": "3b00fd3c-3a1f-41de-b3e7-5d24bf3efc2c",
   "metadata": {},
   "outputs": [
    {
     "data": {
      "text/plain": [
       "3628800"
      ]
     },
     "execution_count": 5,
     "metadata": {},
     "output_type": "execute_result"
    }
   ],
   "source": [
    "a=1\n",
    "b=1\n",
    "while a<11:\n",
    "    b=b*a\n",
    "    a=a+1\n",
    "b\n",
    "    "
   ]
  },
  {
   "cell_type": "markdown",
   "id": "3244142b-3997-4ec6-9b24-f92b2c620cc2",
   "metadata": {},
   "source": [
    "QUESTION 3"
   ]
  },
  {
   "cell_type": "code",
   "execution_count": 10,
   "id": "ecdf5c1a-cb82-42a2-b0ba-6d712775d5a7",
   "metadata": {},
   "outputs": [
    {
     "name": "stdin",
     "output_type": "stream",
     "text": [
      "enter month bill units 310\n"
     ]
    },
    {
     "name": "stdout",
     "output_type": "stream",
     "text": [
      "2250\n"
     ]
    }
   ],
   "source": [
    "\n",
    "q=int(input(\"enter month bill units\"))\n",
    "if q<=300:\n",
    "    if q<=100:\n",
    "        q=q*4.5\n",
    "        print(q)\n",
    "    elif q<=200:\n",
    "        z=(q-100)\n",
    "        x= z*6\n",
    "        c= x+450\n",
    "        print(c)\n",
    "    else:\n",
    "        v=q-200\n",
    "        b=v*10\n",
    "        n=b+1050\n",
    "        print(n)\n",
    "else:\n",
    "    f=q-300\n",
    "    g=f*20\n",
    "    h= 2050+g\n",
    "    print(h)\n",
    "        \n",
    "    "
   ]
  },
  {
   "cell_type": "markdown",
   "id": "d1768862-aa06-40bb-8965-708470734976",
   "metadata": {},
   "source": [
    "QUESTION 4"
   ]
  },
  {
   "cell_type": "code",
   "execution_count": 5,
   "id": "6260d88a-6b9c-4533-a8e7-5e8dafdc3a65",
   "metadata": {},
   "outputs": [
    {
     "data": {
      "text/plain": [
       "[8,\n",
       " 64,\n",
       " 125,\n",
       " 216,\n",
       " 512,\n",
       " 1000,\n",
       " 1728,\n",
       " 2744,\n",
       " 3375,\n",
       " 4096,\n",
       " 5832,\n",
       " 8000,\n",
       " 10648,\n",
       " 13824,\n",
       " 15625,\n",
       " 17576,\n",
       " 21952,\n",
       " 27000,\n",
       " 32768,\n",
       " 39304,\n",
       " 42875,\n",
       " 46656,\n",
       " 54872,\n",
       " 64000,\n",
       " 74088,\n",
       " 85184,\n",
       " 91125,\n",
       " 97336,\n",
       " 110592,\n",
       " 125000,\n",
       " 140608,\n",
       " 157464,\n",
       " 166375,\n",
       " 175616,\n",
       " 195112,\n",
       " 216000,\n",
       " 238328,\n",
       " 262144,\n",
       " 274625,\n",
       " 287496,\n",
       " 314432,\n",
       " 343000,\n",
       " 373248,\n",
       " 405224,\n",
       " 421875,\n",
       " 438976,\n",
       " 474552,\n",
       " 512000,\n",
       " 551368,\n",
       " 592704,\n",
       " 614125,\n",
       " 636056,\n",
       " 681472,\n",
       " 729000,\n",
       " 778688,\n",
       " 830584,\n",
       " 857375,\n",
       " 884736,\n",
       " 941192,\n",
       " 1000000]"
      ]
     },
     "execution_count": 5,
     "metadata": {},
     "output_type": "execute_result"
    }
   ],
   "source": [
    "a=list(range(1,101))\n",
    "s=[]\n",
    "for i in a:\n",
    "    b=i**3\n",
    "    if b%4==0 or b%5==0:\n",
    "        s.append(b)\n",
    "s\n",
    "        "
   ]
  },
  {
   "cell_type": "markdown",
   "id": "fa51b1fe-a32f-4aa4-a36c-fd6811c664fe",
   "metadata": {},
   "source": [
    "QUESTION 5"
   ]
  },
  {
   "cell_type": "code",
   "execution_count": 14,
   "id": "ba990e9c-029d-4f32-890c-95e4606a71b3",
   "metadata": {},
   "outputs": [
    {
     "data": {
      "text/plain": [
       "12"
      ]
     },
     "execution_count": 14,
     "metadata": {},
     "output_type": "execute_result"
    }
   ],
   "source": [
    "string = \"I want to become a data scientist\"\n",
    "name=string.lower()\n",
    "s=[\"a\",\"e\",\"i\",\"o\",\"u\"]\n",
    "b=0\n",
    "for i in s:\n",
    "    a=name.count(i)\n",
    "    b=b+a\n",
    "b\n"
   ]
  },
  {
   "cell_type": "code",
   "execution_count": null,
   "id": "7b53d3a1-d352-4080-bb97-788ce802b20a",
   "metadata": {},
   "outputs": [],
   "source": []
  }
 ],
 "metadata": {
  "kernelspec": {
   "display_name": "Python 3 (ipykernel)",
   "language": "python",
   "name": "python3"
  },
  "language_info": {
   "codemirror_mode": {
    "name": "ipython",
    "version": 3
   },
   "file_extension": ".py",
   "mimetype": "text/x-python",
   "name": "python",
   "nbconvert_exporter": "python",
   "pygments_lexer": "ipython3",
   "version": "3.10.6"
  }
 },
 "nbformat": 4,
 "nbformat_minor": 5
}
